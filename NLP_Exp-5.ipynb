{
 "cells": [
  {
   "cell_type": "markdown",
   "metadata": {},
   "source": [
    "### N-Gram Model"
   ]
  },
  {
   "cell_type": "code",
   "execution_count": 1,
   "metadata": {},
   "outputs": [
    {
     "name": "stdin",
     "output_type": "stream",
     "text": [
      "Enter the n:  4\n"
     ]
    },
    {
     "name": "stdout",
     "output_type": "stream",
     "text": [
      "[\"I'm always waiting for\", 'always waiting for you', 'waiting for you to', 'for you to be', 'you to be waiting', 'to be waiting below', 'be waiting below Devils', 'waiting below Devils roll', 'below Devils roll the', 'Devils roll the dice,', 'roll the dice, angels', 'the dice, angels roll', 'dice, angels roll their', 'angels roll their eyes', 'roll their eyes What', \"their eyes What doesn't\", \"eyes What doesn't kill\", \"What doesn't kill me\", \"doesn't kill me makes\", 'kill me makes me', 'me makes me want', 'makes me want you', 'me want you more.']\n"
     ]
    }
   ],
   "source": [
    "# N-Gram model.\n",
    "\n",
    "def generate_ngrams(text, n):\n",
    "    words = text.split()\n",
    "    ngrams = []\n",
    "    for i in range(len(words) - n + 1):\n",
    "        ngram = \" \".join(words[i:i + n])\n",
    "        ngrams.append(ngram)\n",
    "    return ngrams\n",
    "\n",
    "# Example usage\n",
    "text = \"I'm always waiting for you to be waiting below Devils roll the dice, angels roll their eyes What doesn't kill me makes me want you more.\"\n",
    "n = int(input(\"Enter the n: \"))  # You can change this to any desired N\n",
    "ngrams = generate_ngrams(text, n)\n",
    "print(ngrams)"
   ]
  },
  {
   "cell_type": "markdown",
   "metadata": {},
   "source": [
    "### TF-IDF Model"
   ]
  },
  {
   "cell_type": "markdown",
   "metadata": {},
   "source": [
    "TF = Number of times term appears in document / Total number of terms in document \\\n",
    "IDF = log(Total number of documents / Number of documents containing the term)"
   ]
  },
  {
   "cell_type": "code",
   "execution_count": 2,
   "metadata": {},
   "outputs": [
    {
     "name": "stdout",
     "output_type": "stream",
     "text": [
      "Document 1: This is the first document.\n",
      "document: 0.4698\n",
      "first: 0.5803\n",
      "is: 0.3841\n",
      "the: 0.3841\n",
      "this: 0.3841\n",
      "\n",
      "Document 2: This document is the second document.\n",
      "document: 0.6876\n",
      "is: 0.2811\n",
      "second: 0.5386\n",
      "the: 0.2811\n",
      "this: 0.2811\n",
      "\n",
      "Document 3: And this is the third one.\n",
      "and: 0.5118\n",
      "is: 0.2671\n",
      "one: 0.5118\n",
      "the: 0.2671\n",
      "third: 0.5118\n",
      "this: 0.2671\n",
      "\n",
      "Document 4: Is this the first document?\n",
      "document: 0.4698\n",
      "first: 0.5803\n",
      "is: 0.3841\n",
      "the: 0.3841\n",
      "this: 0.3841\n",
      "\n"
     ]
    }
   ],
   "source": [
    "#TF-IDF model.\n",
    "from sklearn.feature_extraction.text import TfidfVectorizer\n",
    "\n",
    "documents = [\n",
    "    \"This is the first document.\",\n",
    "    \"This document is the second document.\",\n",
    "    \"And this is the third one.\",\n",
    "    \"Is this the first document?\",\n",
    "]\n",
    "\n",
    "tfidf_vectorizer = TfidfVectorizer()\n",
    "\n",
    "tfidf_matrix = tfidf_vectorizer.fit_transform(documents)\n",
    "\n",
    "feature_names = tfidf_vectorizer.get_feature_names_out()\n",
    "\n",
    "tfidf_matrix_dense = tfidf_matrix.toarray()\n",
    "\n",
    "for i, doc in enumerate(documents):\n",
    "    print(f\"Document {i + 1}: {doc}\")\n",
    "    for j, term in enumerate(feature_names):\n",
    "        tfidf_score = tfidf_matrix_dense[i, j]\n",
    "        if tfidf_score > 0:\n",
    "            print(f\"{term}: {tfidf_score:.4f}\")\n",
    "    print()\n"
   ]
  },
  {
   "cell_type": "code",
   "execution_count": null,
   "metadata": {},
   "outputs": [],
   "source": []
  }
 ],
 "metadata": {
  "kernelspec": {
   "display_name": "Python 3 (ipykernel)",
   "language": "python",
   "name": "python3"
  },
  "language_info": {
   "codemirror_mode": {
    "name": "ipython",
    "version": 3
   },
   "file_extension": ".py",
   "mimetype": "text/x-python",
   "name": "python",
   "nbconvert_exporter": "python",
   "pygments_lexer": "ipython3",
   "version": "3.11.2"
  }
 },
 "nbformat": 4,
 "nbformat_minor": 4
}
