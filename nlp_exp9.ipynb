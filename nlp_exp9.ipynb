{
 "cells": [
  {
   "cell_type": "code",
   "execution_count": 13,
   "id": "da2b6727-4d9f-4d9c-a5da-507c7e66474e",
   "metadata": {},
   "outputs": [
    {
     "name": "stdout",
     "output_type": "stream",
     "text": [
      "5\n",
      "{cheker: 'check', tul: 'tool', validating: 'avoiding', speling: 'spelling', tekst: 'text'}\n",
      "A spell-check is a tool used for analyzing and avoiding spelling mistakes in the text.\n"
     ]
    }
   ],
   "source": [
    "import contextualSpellCheck\n",
    "import spacy\n",
    "\n",
    "nlp = spacy.load('en_core_web_sm')\n",
    "contextualSpellCheck.add_to_pipe(nlp)\n",
    "# doc = nlp('Spell Checker is a sekuence-to-sequnce pipline that detects and corrects speling errors in yor input tsxt.')\n",
    "\n",
    "doc = nlp('A spell-cheker is a tul used for analyzing and validating speling mistakes in the tekst.')\n",
    "print(len(doc._.suggestions_spellCheck))\n",
    "\n",
    "print(doc._.suggestions_spellCheck)\n",
    "\n",
    "print(doc._.outcome_spellCheck)"
   ]
  }
 ],
 "metadata": {
  "kernelspec": {
   "display_name": "Python 3 (ipykernel)",
   "language": "python",
   "name": "python3"
  },
  "language_info": {
   "codemirror_mode": {
    "name": "ipython",
    "version": 3
   },
   "file_extension": ".py",
   "mimetype": "text/x-python",
   "name": "python",
   "nbconvert_exporter": "python",
   "pygments_lexer": "ipython3",
   "version": "3.11.2"
  }
 },
 "nbformat": 4,
 "nbformat_minor": 5
}
