{
 "cells": [
  {
   "cell_type": "code",
   "execution_count": 1,
   "metadata": {},
   "outputs": [
    {
     "name": "stdout",
     "output_type": "stream",
     "text": [
      "Sentence: I love programming in Python.\n",
      "Most likely sequence of POS tags: ['Noun', 'Verb', 'Adjective', 'Noun', 'Verb']\n"
     ]
    }
   ],
   "source": [
    "# POS TAGGING USING HMM.\n",
    "# \n",
    "\n",
    "def viterbi(obs, states, start_p, trans_p, emit_p):\n",
    "    V = [{}]\n",
    "    path = {}\n",
    "\n",
    "    # Initialize the first column of the Viterbi matrix\n",
    "    for state in states:\n",
    "        V[0][state] = start_p[state] * emit_p[state].get(obs[0], 0)\n",
    "        path[state] = [state]\n",
    "\n",
    "    # Iterate over the rest of the observation sequence\n",
    "    for t in range(1, len(obs)):\n",
    "        V.append({})\n",
    "        new_path = {}\n",
    "\n",
    "        for state in states:\n",
    "            (prob, possible_state) = max([(V[t-1][prev_state] * trans_p[prev_state].get(state, 0) * emit_p[state].get(obs[t], 0), prev_state)\n",
    "        for prev_state in states if V[t-1][prev_state] > 0], default=(0.0, None))\n",
    "            V[t][state] = prob\n",
    "            new_path[state] = path[possible_state] + [state]\n",
    "\n",
    "        path = new_path\n",
    "\n",
    "    # Find the most likely final state\n",
    "    n = len(obs)\n",
    "    (prob, state) = max((V[n-1][state], state) for state in states)\n",
    "\n",
    "    return path[state]\n",
    "\n",
    "# Define the states (POS tags)\n",
    "states = ['Noun', 'Verb', 'Adjective', 'Adverb']\n",
    "\n",
    "# Define the observation symbols (words)\n",
    "observations = ['I', 'love', 'programming', 'in', 'Python']\n",
    "\n",
    "# Define initial state probabilities (pi)\n",
    "initial_probabilities = {'Noun': 0.3, 'Verb': 0.3, 'Adjective': 0.2, 'Adverb': 0.2}\n",
    "\n",
    "# Transition probability matrix (A)\n",
    "transition_matrix = {\n",
    "    'Noun': {'Noun': 0.3, 'Verb': 0.4, 'Adjective': 0.2, 'Adverb': 0.1},\n",
    "    'Verb': {'Noun': 0.1, 'Verb': 0.4, 'Adjective': 0.3, 'Adverb': 0.2},\n",
    "    'Adjective': {'Noun': 0.2, 'Verb': 0.3, 'Adjective': 0.4, 'Adverb': 0.1},\n",
    "    'Adverb': {'Noun': 0.1, 'Verb': 0.2, 'Adjective': 0.2, 'Adverb': 0.5},\n",
    "}\n",
    "\n",
    "# Emission probability matrix (B)\n",
    "emission_matrix = {\n",
    "    'Noun': {'I': 0.1, 'love': 0.05, 'programming': 0.1, 'in': 0.2, 'Python': 0.05},\n",
    "    'Verb': {'I': 0.05, 'love': 0.2, 'programming': 0.1, 'in': 0.05, 'Python': 0.1},\n",
    "    'Adjective': {'I': 0.05, 'love': 0.1, 'programming': 0.15, 'in': 0.05, 'Python': 0.05},\n",
    "    'Adverb': {'I': 0.05, 'love': 0.05, 'programming': 0.05, 'in': 0.1, 'Python': 0.15},\n",
    "}\n",
    "\n",
    "# Find the most likely sequence of POS tags for the given observations\n",
    "result = viterbi(observations, states, initial_probabilities, transition_matrix, emission_matrix)\n",
    "\n",
    "print(\"Sentence: I love programming in Python.\")\n",
    "print(\"Most likely sequence of POS tags:\", result)"
   ]
  }
 ],
 "metadata": {
  "kernelspec": {
   "display_name": "Python 3 (ipykernel)",
   "language": "python",
   "name": "python3"
  },
  "language_info": {
   "codemirror_mode": {
    "name": "ipython",
    "version": 3
   },
   "file_extension": ".py",
   "mimetype": "text/x-python",
   "name": "python",
   "nbconvert_exporter": "python",
   "pygments_lexer": "ipython3",
   "version": "3.11.2"
  }
 },
 "nbformat": 4,
 "nbformat_minor": 4
}
