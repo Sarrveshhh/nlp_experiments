{
 "cells": [
  {
   "cell_type": "code",
   "execution_count": 1,
   "metadata": {},
   "outputs": [
    {
     "name": "stderr",
     "output_type": "stream",
     "text": [
      "[nltk_data] Downloading package punkt to\n",
      "[nltk_data]     C:\\Users\\Sarrvesh\\AppData\\Roaming\\nltk_data...\n",
      "[nltk_data]   Package punkt is already up-to-date!\n",
      "[nltk_data] Downloading package wordnet to\n",
      "[nltk_data]     C:\\Users\\Sarrvesh\\AppData\\Roaming\\nltk_data...\n",
      "[nltk_data]   Package wordnet is already up-to-date!\n"
     ]
    },
    {
     "data": {
      "text/plain": [
       "True"
      ]
     },
     "execution_count": 1,
     "metadata": {},
     "output_type": "execute_result"
    }
   ],
   "source": [
    "# experiment 6: Morphological analysis of english sentances.\n",
    "import nltk\n",
    "from nltk.tokenize import word_tokenize\n",
    "from nltk.corpus import wordnet\n",
    "from nltk.stem import PorterStemmer, WordNetLemmatizer\n",
    "\n",
    "nltk.download(\"punkt\")\n",
    "nltk.download(\"wordnet\")"
   ]
  },
  {
   "cell_type": "code",
   "execution_count": 2,
   "metadata": {},
   "outputs": [
    {
     "name": "stdout",
     "output_type": "stream",
     "text": [
      "Word: The\n",
      "Part of Speech: DT\n",
      "Stemmed: the\n",
      "Lemmatized: The\n",
      "Synonyms: Not found\n",
      "---\n",
      "Word: zebra\n",
      "Part of Speech: NN\n",
      "Stemmed: zebra\n",
      "Lemmatized: zebra\n",
      "Synonyms: {'zebra'}\n",
      "---\n",
      "Word: jumped\n",
      "Part of Speech: VBD\n",
      "Stemmed: jump\n",
      "Lemmatized: jumped\n",
      "Synonyms: {'climb_up', 'jump_off', 'chute', 'parachute', 'start', 'startle', 'stand_out', 'skip', 'jump_out', 'stick_out', 'skip_over', 'leap_out', 'jump', 'bound', 'rise', 'alternate', 'jumpstart', 'jump-start', 'leap', 'pass_over', 'derail', 'spring'}\n",
      "---\n",
      "Word: over\n",
      "Part of Speech: IN\n",
      "Stemmed: over\n",
      "Lemmatized: over\n",
      "Synonyms: {'ended', 'concluded', 'all_over', 'terminated', \"o'er\", 'over', 'complete'}\n",
      "---\n",
      "Word: the\n",
      "Part of Speech: DT\n",
      "Stemmed: the\n",
      "Lemmatized: the\n",
      "Synonyms: Not found\n",
      "---\n",
      "Word: dog\n",
      "Part of Speech: NN\n",
      "Stemmed: dog\n",
      "Lemmatized: dog\n",
      "Synonyms: {'chase_after', 'andiron', 'bounder', 'detent', 'dog-iron', 'wienerwurst', 'cad', 'pawl', 'give_chase', 'dog', 'frankfurter', 'chase', 'click', 'hotdog', 'firedog', 'frank', 'frump', 'domestic_dog', 'Canis_familiaris', 'wiener', 'weenie', 'trail', 'track', 'go_after', 'blackguard', 'hound', 'heel', 'hot_dog', 'tag', 'tail'}\n",
      "---\n",
      "Word: .\n",
      "Part of Speech: .\n",
      "Stemmed: .\n",
      "Lemmatized: .\n",
      "Synonyms: Not found\n",
      "---\n"
     ]
    }
   ],
   "source": [
    "sentence = \"The zebra jumped over the dog.\"\n",
    "\n",
    "tokens = word_tokenize(sentence)\n",
    "tagged = nltk.pos_tag(tokens)\n",
    "\n",
    "stemmer = PorterStemmer()\n",
    "lemmatizer = WordNetLemmatizer()\n",
    "\n",
    "for word, tag in tagged:\n",
    "    stemmed_word = stemmer.stem(word)\n",
    "    \n",
    "    lemma_word = lemmatizer.lemmatize(word)  \n",
    "    \n",
    "    synonyms = []\n",
    "    for syn in wordnet.synsets(word):\n",
    "        for lemma in syn.lemmas():\n",
    "            synonyms.append(lemma.name())\n",
    "    \n",
    "    print(f\"Word: {word}\")\n",
    "    print(f\"Part of Speech: {tag}\")\n",
    "    print(f\"Stemmed: {stemmed_word}\")\n",
    "    print(f\"Lemmatized: {lemma_word}\")\n",
    "    print(f\"Synonyms: {set(synonyms)}\" if len(set(synonyms)) != 0 else \"Synonyms: Not found\")\n",
    "    print(\"---\")\n"
   ]
  },
  {
   "cell_type": "code",
   "execution_count": null,
   "metadata": {},
   "outputs": [],
   "source": []
  }
 ],
 "metadata": {
  "kernelspec": {
   "display_name": "Python 3 (ipykernel)",
   "language": "python",
   "name": "python3"
  },
  "language_info": {
   "codemirror_mode": {
    "name": "ipython",
    "version": 3
   },
   "file_extension": ".py",
   "mimetype": "text/x-python",
   "name": "python",
   "nbconvert_exporter": "python",
   "pygments_lexer": "ipython3",
   "version": "3.11.2"
  }
 },
 "nbformat": 4,
 "nbformat_minor": 4
}
